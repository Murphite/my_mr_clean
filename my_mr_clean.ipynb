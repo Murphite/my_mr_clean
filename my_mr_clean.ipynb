{
 "cells": [
  {
   "cell_type": "markdown",
   "id": "bfe64ece",
   "metadata": {},
   "source": [
    "## Importing necessary libraries"
   ]
  },
  {
   "cell_type": "code",
   "execution_count": 1,
   "id": "b5690503",
   "metadata": {},
   "outputs": [],
   "source": [
    "import requests\n",
    "from bs4 import BeautifulSoup\n",
    "import re\n",
    "from collections import Counter\n",
    "import matplotlib.pyplot as plt\n",
    "import random"
   ]
  },
  {
   "cell_type": "code",
   "execution_count": null,
   "id": "5466ff2a",
   "metadata": {},
   "outputs": [],
   "source": []
  },
  {
   "cell_type": "markdown",
   "id": "a47c3a89",
   "metadata": {},
   "source": [
    "## Getting the article from the api"
   ]
  },
  {
   "cell_type": "code",
   "execution_count": 2,
   "id": "cdb76b8f",
   "metadata": {},
   "outputs": [],
   "source": [
    "# getting the article form the api\n",
    "def get_content(title):\n",
    "    session = requests.Session()\n",
    "\n",
    "    url = \"https://en.wikipedia.org/w/api.php\"\n",
    "\n",
    "    PARAMS = {\n",
    "        \"action\": \"query\",\n",
    "        \"prop\": \"revisions\",\n",
    "        \"titles\":title,\n",
    "        \"rvslots\":\"*\",\n",
    "        \"rvprop\": \"content\",\n",
    "        \"formatversion\": \"2\",\n",
    "        \"format\": \"json\"\n",
    "    }\n",
    "\n",
    "    result = session.get(url=url, params=PARAMS)\n",
    "\n",
    "\n",
    "    return result.json()"
   ]
  },
  {
   "cell_type": "code",
   "execution_count": 3,
   "id": "4cdfac2c",
   "metadata": {
    "scrolled": true
   },
   "outputs": [],
   "source": [
    "data = get_content('ozone_layer')"
   ]
  },
  {
   "cell_type": "code",
   "execution_count": null,
   "id": "65e2923f",
   "metadata": {},
   "outputs": [],
   "source": []
  },
  {
   "cell_type": "markdown",
   "id": "83ddd7c0",
   "metadata": {},
   "source": [
    "## Merging the content"
   ]
  },
  {
   "cell_type": "code",
   "execution_count": 4,
   "id": "0f8c7ea3",
   "metadata": {},
   "outputs": [
    {
     "name": "stdout",
     "output_type": "stream",
     "text": [
      "Short descriptionRegion of the stratosphere\n",
      "ppsemiindef\n",
      "FileOzone cyclesvgthumbupright15Ozoneoxygen cycle in the ozone layer\n",
      "\n",
      "The ozone layer or ozone shield is a region of Earths stratosphere that absorbs most of the Suns ultraviolet  radiation It contains a high concentration of ozone Osub3sub in relation to other parts of the atmosphere although still small in relation to other gases in the stratosphere The ozone layer contains less than 10 parts per million of ozone while the average ozone concentration in Earths atmosphere as a whole is about 03 parts per million The ozone layer is mainly found in the lower portion of the stratosphere from approximately convert15to35kmspus0 above Earth although its thickness varies seasonally and geographicallyrefcite weburlhttpwwwozonelayernoaagovsciencebasicshtmtitleOzone BasicswebsiteNOAAdate20080320accessdate20070129archiveurlhttpswebarchiveorgweb20171121051325httpwwwozonelayernoaagovsciencebasicshtmarchivedate20171121urlstatusdeadref\n",
      "\n",
      "The ozone layer was discovered in 1913 by the French physicists Charles Fabry and Henri Buisson Measurements of the sun showed that the radiation sent out from its surface and reaching the ground on Earth is usually consistent with the spectrum of a black body with a temperature in the range of convert55006000KC except that there was no radiation below a wavelength of about 310nbspnm at the ultraviolet end of the spectrum It was deduced that the missing radiation was being absorbed by something in the atmosphere Eventually the spectrum of the missing radiation was matched to only one known chemical ozonerefCite journaljournalAtmosphereOceanvolume46pages113doi103137ao460101year2008last1McElroyfirst1CTtitleOzone From discovery to protectionlast2Fogalfirst2PFs2cid128994884ref Its properties were explored in detail by the British meteorologist G M B Dobson who developed a simple Spectrophotometryspectrophotometer the Dobson spectrometerDobsonmeter that could be used to measure stratospheric ozone from the ground Between 1928 and 1958 Dobson established a worldwide network of ozone monitoring stations which continue to operate to this day The Dobson unit a convenient measure of the area densityamount of ozone overhead is named in his honor\n",
      "\n",
      "The ozone layer absorbs 97 to 99 percent of the Suns mediumfrequency ultraviolet light from about 200nbspnanometernm to 315nbspnm wavelength which otherwise would potentially damage exposed life forms near the surfaceref nameNASAcite weburlhttpwwwnasnasagovAboutEducationOzoneozonelayerhtml titleOzone layeraccessdate20070923ref\n",
      "\n",
      "In 1976 atmospheric research revealed that the ozone layer was being depleted by chemicals released by industry mainly chlorofluorocarbons CFCs Concerns that increased UV radiation due to ozone depletion threatened life on Earth including increased skin cancer in humans and other ecological problemsrefAn Interview with Lee Thomas EPAs 6th Administrator httpwwwepaalumniorghistoryvideointerviewcfmid28 Video httpswwwepaalumniorguserdatapdf60740780F5ACB3D5pdfpage1 Transcript see p13 April 19 2012ref led to bans on the chemicals and the latest evidence is that ozone depletion has slowed or stopped The United Nations General Assembly has designated September 16 as the International Day for the Preservation of the Ozone Layer\n",
      "\n",
      "Venus also has a thin ozone layer at an altitude of 100 kilometers above the planets surfaceref namevenus ozonecite web  urlhttpwwwspacecom13244venusatmosphereozonelayerhtml  titleScientists discover Ozone Layer on Venus  publisherPurch  workSPACEcom  dateOctober 11 2011  accessdateOctober 3 2015  authorSPACEcom staffref\n",
      "\n",
      "Sources\n",
      "The photochemical mechanisms that give rise to the ozone layer were discovered by the British physicist Sydney Chapman mathematicianSydney Chapman in 1930 Ozone in the Earths stratosphere is created by ultraviolet light striking ordinary oxygen molecules containing two oxygen atoms Osub2sub splitting them into individual oxygen atoms atomic oxygen the atomic oxygen then combines with unbroken Osub2sub to create ozone Osub3sub The ozone molecule is unstable although in the stratosphere longlived and when ultraviolet light hits ozone it splits into a molecule of Osub2sub and an individual atom of oxygen a continuing process called the ozoneoxygen cycle Chemically this can be described as\n",
      " chemO2  mathithnu_uv  2O chem\n",
      " chemO  O2  O3chem\n",
      "About 90 percent of the ozone in the atmosphere is contained in the stratosphere Ozone concentrations are greatest between about convert20and40kmft where they range from about 2 to 8 parts per million If all of the ozone were compressed to the pressure of the air at sea level it would be only convert3mminabbrofffrac8 thickrefcite weburlhttpwwwnasagovfactsEarthearth_facts_archiveshtmltitleNASA Facts Archiveaccessdate20110609ref\n",
      "\n",
      "Ultraviolet light\n",
      "ImageOzone solar UV absorb DNA actionjpgthumb300pxUVB energy levels at several altitudes Blue line shows DNA sensitivity Red line shows surface energy level with 10 percent decrease in ozone\n",
      "ImageOzone altitude UV graphsvgthumb300pxLevels of ozone at various altitudes and blocking of different bands of ultraviolet radiation Essentially all UVC 100280nbspnm is blocked by dioxygen from 100200nbspnm or else by ozone 200280nbspnm in the atmosphere The shorter portion of the UVC band and the more energetic UV above this band causes the formation of the ozone layer when single oxygen atoms produced by UV photolysis of dioxygen below 240nbspnm react with more dioxygen The ozone layer also blocks most but not quite all of the sunburnproducing UVB 280315nbspnm band which lies in the wavelengths longer than UVC The band of UV closest to visible light UVA 315400nbspnm is hardly affected by ozone and most of it reaches the ground UVA does not primarily cause skin reddening but there is evidence that it causes longterm skin damage\n",
      "\n",
      "Although the concentration of the ozone in the ozone layer is very small it is vitally important to life because it absorbs biologically harmful ultraviolet UV radiation coming from the Sun Extremely short or vacuum UV 10100nbspnm is screened out by nitrogen UV radiation capable of penetrating nitrogen is divided into three categories based on its wavelength these are referred to as UVA 400315nbspnm UvBUVB 315280nbspnm and UVC 280100nbspnm\n",
      "\n",
      "UVC which is very harmful to all living things is entirely screened out by a combination of dioxygen  200nbspnm and ozone  about 200nbspnm by around convert35kmft altitude UVB radiation can be harmful to the skin and is the main cause of sunburn excessive exposure can also cause cataracts immune system suppression and genetic damage resulting in problems such as skin cancer The ozone layer which absorbs from about 200nbspnm to 310nbspnm with a maximal absorption at about 250nbspnmrefcite journalurlhttpylymacgpscaltecheduN2OPrasadMatsumi_O3_cr020525520copypdf titlePhotolysis of Atmospheric Ozone in the Ultraviolet Region authorsMatsumi Y Kawasaki M journalChem Rev date2003 volume103 issue12 pages47674781 pmid14664632 accessdateMarch 14 2015 doi101021cr0205255 urlstatusdead archiveurlhttpswebarchiveorgweb20120617123007httpylymacgpscaltecheduN2OPrasadMatsumi_O3_cr020525520copypdf archivedateJune 17 2012 ref is very effective at screening out UVB for radiation with a wavelength of 290nbspnm the intensity at the top of the atmosphere is 350 million times stronger than at the Earths surface Nevertheless some UVB particularly at its longest wavelengths reaches the surface and is important for the skins production of vitamin D in mammals\n",
      "\n",
      "Ozone is transparent to most UVA so most of this longerwavelength UV radiation reaches the surface and it constitutes most of the UV reaching the Earth This type of UV radiation is significantly less harmful to DNA although it may still potentially cause physical damage premature aging of the skin indirect genetic damage and skin cancerrefcite journal titleReview Ultraviolet radiation and skin cancer authorsNarayanan DL Saladi RN Fox JL journalInternational Journal of Dermatology volume49 issue9 pages978986 date2010pmid20883261 doi101111j13654632201004474x s2cid22224492 ref\n",
      "\n",
      "Distribution in the stratosphere\n",
      "more citations needed sectiondateFebruary 2013\n",
      "\n",
      "The thickness of the ozone layer varies worldwide and is generally thinner near the equator and thicker near the polesref nameAPHcite bookurlhttpsbooksgooglecombooksidQFBmUu1lwzACtitleGlobal Warming The Effect Of Ozone DepletionauthorTabin ShagoonpublisherAPH Publishingyear2008isbn9788131303962page194accessdate12 January 2016ref Thickness refers to how much ozone is in a column over a given area and varies from season to season The reasons for these variations are due to atmospheric circulation patterns and solar intensityrefCite webtitleNasa Ozone Watch Ozone factsurlhttpsozonewatchgsfcnasagovfactsSHhtmlaccessdate20210916websiteozonewatchgsfcnasagovref\n",
      "\n",
      "The majority of ozone is produced over the tropics and is transported towards the poles by stratospheric wind patterns In the northern hemisphere these patterns known as the BrewerDobson circulation make the ozone layer thickest in the spring and thinnest in the fallref nameAPH  When ozone is produced by solar UV radiation in the tropics it is done so by circulation lifting ozonepoor air out of the troposphere and into the stratosphere where the sun photolyzes oxygen molecules and turns them into ozone Then the ozonerich air is carried to higher latitudes and drops into lower layers of the atmosphereref nameAPH \n",
      "\n",
      "Research has found that the ozone levels in the United States are highest in the spring months of April and May and lowest in October While the total amount of ozone increases moving from the tropics to higher latitudes the concentrations are greater in high northern latitudes than in high southern latitudes with spring ozone columns in high northern latitudes occasionally exceeding 600 DU and averaging 450 DU whereas 400 DU constituted a usual maximum in the Antarctic  before anthropogenic ozone depletion This difference occurred naturally because of the weaker polar vortex and stronger BrewerDobson circulation in the northern hemisphere owing to that hemispheres large mountain ranges and greater contrasts between land and ocean temperaturesrefcite journalauthorDouglassfirstAnne Rlast2Newmanfirst2Paul Alast3Solomonfirst3SusantitleThe Antarctic ozone hole An updatejournalPhysics Todayyear2014volume67issue7pages4248urlhttpsphysicstodayscitationorgdoipdf101063PT32449urlstatuslivepublisherAmerican Institute of Physicsdoi101063PT32449bibcode2014PhT67g42Dhdl1721199159hdlaccessfreeref The difference between high northern and southern latitudes has increased since the 1970s due to the ozone hole phenomenonref nameAPH  The highest amounts of ozone are found over the Arctic during the spring months of March and April but the Antarctic has the lowest amounts of ozone during the summer months of September and October\n",
      "\n",
      "ImageNimbus ozone BrewerDobson circulationjpgthumb300pxBrewerDobson circulation in the ozone layer\n",
      "\n",
      "Depletion\n",
      "MainOzone depletion\n",
      "FileFuture ozone layer concentrationsgifthumb300pxNASA projections of stratospheric ozone concentrations if chlorofluorocarbons had not been banned\n",
      "\n",
      "The ozone layer can be depleted by free radical Catalysiscatalysts including nitric oxide NO nitrous oxide Nsub2subO hydroxyl OH atomic chlorine Cl and atomic bromine Br While there are natural sources for all of these Chemical speciesspecies the concentrations of chlorine and bromine increased markedly in recent decades because of the release of large quantities of manmade organohalogen compounds especially chlorofluorocarbons CFCs and Haloalkanebromofluorocarbonsrefcite book chapterurlhttpwwweiadoegovoiaf1605archivegg97rptchap5html chapterHalocarbons and Other Gases publisherEnergy Information Administration titleEmissions of Greenhouse Gases in the United States 1996 date1997 accessdate20080624 urlstatusdead archiveurlhttpswebarchiveorgweb20080629032506httpwwweiadoegovoiaf1605archivegg97rptchap5html archivedate20080629 ref These highly stable compounds are capable of surviving the rise to the stratosphere where Cl and Br Radical chemistryradicals are liberated by the action of ultraviolet light Each radical is then free to initiate and catalyze a chain reaction capable of breaking down over 100000 ozone molecules By 2009 nitrous oxide was the largest ozonedepleting substance ODS emitted through human activitiesrefcite web urlhttpwwwnoaanewsnoaagovstories200920090827_ozonehtml titleNOAA Study Shows Nitrous Oxide Now Top OzoneDepleting Emission publisherNOAA date20090827 accessdate20111108ref\n",
      "\n",
      "The breakdown of ozone in the stratosphere results in reduced absorption of ultraviolet radiation Consequently unabsorbed and dangerous ultraviolet radiation is able to reach the Earths surface at a higher intensity Ozone levels have dropped by a worldwide average of about 4 percent since the late 1970s For approximately 5 percent of the Earths surface around the north and south poles much larger seasonal declines have been seen and are described as ozone holes Let it be known that the ozone holes are actually patches in the ozone layer in which the ozone is thinner The thinnest parts of the ozone are at the Polar regions of Earthpolar points of Earths axisrefCite web titleozone layer  National Geographic Society urlhttpseducationnationalgeographicorgresourceozonelayer accessdate20220530 websiteeducationnationalgeographicorgref The discovery of the annual depletion of ozone above the Antarctic was first announced by Joe Farman Brian G Gardiner meteorologistBrian Gardiner and Jonathan Shanklin in a paper which appeared in Nature journalNature on May 16 1985\n",
      "\n",
      "Regulation attempts have included but not have been limited to the Clean Air Act United StatesClean Air Act implemented by the United States Environmental Protection Agency The Clean Air Act introduced the requirement of httpswwwepagovcriteriaairpollutantsnaaqstable National Ambient Air Quality Standards NAAQS with ozone pollutions being one of six criteria pollutants This regulation has proven to be effective since counties cities and tribal regions must abide by these standards and the EPA also provides assistance for each region to regulate contaminantsrefCite web lastUS EPA firstOAR date20161214 titleOzone Implementation Regulatory Actions urlhttpswwwepagovgroundlevelozonepollutionozoneimplementationregulatoryactions accessdate20220530 websitewwwepagov languageenref Effective presentation of information has also proven to be important in order to educate the general population of the existence and regulation of ozone depletion and contaminants A scientific paper was written by Sheldon Ungar in which the author explores and studies how information about the depletion of the ozone climate change and various related topics The ozone case was communicated to lay persons with easytounderstand bridging metaphors derived from the popular culture and related to immediate risks with everyday relevancerefCite journal lastUngar firstSheldon dateJuly 2000 titleKnowledge ignorance and the popular culture climate change versus the ozone hole urlhttpjournalssagepubcomdoi1010880963662593306 journalPublic Understanding of Science languageen volume9 issue3 pages297312 doi1010880963662593306 s2cid7089937 issn09636625ref The specific metaphors used in the discussion ozone shield ozone hole proved quite useful and compared to global climate change the ozone case was much more seen as a hot issue and imminent risk Lay people were cautious about a depletion of the ozone layer and the risks of skin cancer\n",
      "\n",
      "OzoneBad ozone can cause adverse health risks respiratory effects difficulty breathing and is proven to be an aggravator of respiratory illnesses such as asthma Chronic obstructive pulmonary diseaseCOPD and emphysemarefCite journal last1Zhang first1Junfeng Jim last2Wei first2Yongjie last3Fang first3Zhangfu date2019 titleOzone Pollution A Major Health Hazard Worldwide journalFrontiers in Immunology volume10 page2518 doi103389fimmu201902518 pmid31736954 pmc6834528 issn16643224doiaccessfree ref That is why many countries have set in place regulations to improve good ozone and prevent the increase of bad ozone in urban or residential areas In terms of ozone protection the preservation of good ozone the European Union has strict guidelines on what products are allowed to be bought distributed or used in specific areasrefCite web titleOzone Regulation urlhttpseceuropaeuclimaeuactionprotectionozonelayerozoneregulation_en accessdate20220530 websiteeceuropaeu languageenref With effective regulation the ozone is expected to heal over timerefCite web lastUS EPA firstOAR date20150715 titleInternational Treaties and Cooperation about the Protection of the Stratospheric Ozone Layer urlhttpswwwepagovozonelayerprotectioninternationaltreatiesandcooperationaboutprotectionstratosphericozone accessdate20220530 websitewwwepagov languageenrefFileTOMS_Global_Ozone_65N65SpngthumbLevels of atmospheric ozone measured by satellite show clear seasonal variations and appear to verify their decline over time\n",
      "mainOzone depletion and climate change\n",
      "\n",
      "In 1978 the United States Canada and Norway enacted bans on ChlorofluorocarbonCFCcontaining aerosol sprays that damage the ozone layer The European Community rejected an analogous proposal to do the same In the US chlorofluorocarbons continued to be used in other applications such as refrigeration and industrial cleaning until after the discovery of the Antarctic ozone hole in 1985 After negotiation of an international treaty the Montreal Protocol CFC production was capped at 1986 levels with commitments to longterm reductionsrefcite journal titleThe Evolution of Policy Responses to Stratospheric Ozone Depletion journalNatural Resources Journal date1989 firstPeter M lastMorrisette volume29 pages793820 urlhttpwwwciesinorgdocs003006003006html accessdate20100420ref This allowed for a tenyear phasein for developing countriesrefAn Interview with Lee Thomas EPAs 6th Administrator httpwwwepaalumniorghistoryvideointerviewcfmid28 Video httpswwwepaalumniorguserdatapdf60740780F5ACB3D5pdfpage1 Transcript see p15 April 19 2012ref identified in Article 5 of the protocol Since that time the treaty was amended to ban CFC production after 1995 in the developed countries and later in developing countriesrefcite web urlhttpwwwepagovozoneintpolhistoryhtml titleAmendments to the Montreal Protocol publisherEPA date20100819 accessdate20110328ref Today all of the worlds 197 countries have signed the treaty Beginning January 1 1996 only recycled and stockpiled CFCs were available for use in developed countries like the US This production phaseout was possible because of efforts to ensure that there would be substitute chemicals and technologies for all ODS usesrefcite web urlhttpwwwepagovozonescienceq_ahtml titleBrief Questions and Answers on Ozone Depletion publisherEPA date20060628 accessdate20111108ref\n",
      "\n",
      "On August 2 2003 scientists announced that the global depletion of the ozone layer may be slowing down because of the international regulation of ozonedepleting substances In a study organized by the American Geophysical Union three satellites and three ground stations confirmed that the upperatmosphere ozonedepletion rate slowed significantly during the previous decade Some breakdown can be expected to continue because of ODSs used by nations which have not banned them and because of gases which are already in the stratosphere Some ODSs including CFCs have very long atmospheric lifetimes ranging from 50 to over 100 years It has been estimated that the ozone layer will recover to 1980 levels near the middle of the 21st centuryref namewmo2010cite book titleScientific Assessment of Ozone Depletion 2010 date2011 publisherWMO chapterStratospheric Ozone and Surface Ultraviolet Radiation accessdateMarch 14 2015 chapterurlhttpacdbextgsfcnasagovDocumentsO3_AssessmentsDocsWMO_2010Chapter_2pdfref A gradual trend toward healing was reported in 2016ref namehealingcite journal titleEmergence of healing in the Antarctic ozone layer vauthorsSolomon Susan etal journalScience volume353 issue6296 pages26974 dateJune 30 2016 doi101126scienceaae0061pmid27365314 bibcode2016Sci353269S doiaccessfree ref\n",
      "\n",
      "Compounds containing Carbonhydrogen bondCH bonds such as hydrochlorofluorocarbons or HCFCs have been designed to replace CFCs in certain applications These replacement compounds are more reactive and less likely to survive long enough in the atmosphere to reach the stratosphere where they could affect the ozone layer While being less damaging than CFCs HCFCs can have a negative impact on the ozone layer so they are also being phased outrefcite web urlhttpwwwepagovozonedefnshtmlhcfc titleOzone Depletion Glossary publisherEPA accessdate20080903ref These in turn are being replaced by hydrofluorocarbons HFCs and other compounds that do not destroy stratospheric ozone at all\n",
      "\n",
      "The residual effects of CFCs accumulating within the atmosphere lead to a concentration gradient between the atmosphere and the ocean This organohalogen compound is able to dissolve into the oceans surface waters and is able to act as a Chlorofluorocarbontimedependent tracer This tracer helps scientists study ocean circulation by tracing biological physical and chemical pathways refCite journalurlhttpyyyrsmasmiamiedugroupscfcpubsFine_AnnRevMarineSci3_2011pdftitleObservations of CFCs and SF6 as Ocean TracerslastFinefirstRana Adate2011pmid21329203journalAnnual Review of Marine Sciencevolume3pages17395doi101146annurevmarine010908163933bibcode2011ARMS3173Farchiveurlhttpswebarchiveorgweb20150210212306httpyyyrsmasmiamiedugroupscfcpubsFine_AnnRevMarineSci3_2011pdfarchivedate20150210urlstatusdeadref\n",
      "\n",
      "Implications for astronomy\n",
      "As ozone in the atmosphere prevents most energetic ultraviolet radiation reaching the surface of the Earth astronomical data in these wavelengths have to be gathered from satellites orbiting above the atmosphere and ozone layer Most of the light from young hot stars is in the ultraviolet and so study of these wavelengths is important for studying the origins of galaxies The Galaxy Evolution Explorer GALEX is an orbiting ultraviolet space telescope launched on April 28 2003 which operated until early 2012refCite weblastSocietyfirstNational Geographicdate20110509titleozone layerurlhttpwwwnationalgeographicorgencyclopediaozonelayeraccessdate20210916websiteNational Geographic Societylanguageenref\n",
      "\n",
      "gallery classcenter widths300 heights260\n",
      "FileUltraviolet image of the Cygnus Loop Nebula cropjpgThis GALEX image of the Cygnus LoopCygnus Loop nebula could not have been taken from the surface of the Earth because the ozone layer blocks the ultraviolet radiation emitted by the nebula\n",
      "gallery\n",
      "\n",
      "See also\n",
      "\n",
      "Nuclear winter\n",
      "United Nations Environment Programme\n",
      "Shortlived climate pollutants\n",
      "\n",
      "References\n",
      "Reflist33em\n",
      "\n",
      "Further reading\n",
      " Science\n",
      "\n",
      " cite journal authorlinkStephen O Andersen lastAndersen firstS O titleLessons from the stratospheric ozone layer protection for climate journalJournal of Environmental Studies and Sciences year2015 volume5 issue2 pages143162 doi101007s1341201402139s2cid129725437 urlhttpslinkspringercomarticle101007s1341201402139 \n",
      " cite book  last1Andersen  first1SO  last2Sarma  first2KM  last3Sinclair  first3L  titleProtecting the Ozone Layer The United Nations History  publisherTaylor  Francis  year2012  isbn9781849772266  urlhttpsbooksgooglecombooksidzuesUPcIOq8C \n",
      " United Nations Environment Programme 2010 Environmental Effects of Ozone Depletion and its Interactions with Climate Change 2010 Assessment Nairobi UNEP\n",
      " cite journal doi101073pnas0902817106 titleThe large contribution of projected HFC emissions to future climate forcing year2009 last1Velders first1G J M last2Fahey first2D W last3Daniel first3J S last4McFarland first4M last5Andersen first5S O journalProceedings of the National Academy of Sciences volume106 issue27 pages1094910954 pmid19549868 pmc2700150 bibcode2009PNAS10610949V s2cid3743609 doiaccessfree \n",
      " cite journal  last1  Velders  first1  Guus JM  last2  Andersen  first2  Stephen O  last3  Daniel  first3  John S  last4  Fahey  first4  David W  last5  McFarland  first5  Mack  year  2007  title  The Importance of the Montreal Protocol in Protecting Climate  journal  Proceedings of the National Academy of Sciences of the United States of America  volume  104  issue  12 pages  48144819  doi101073pnas0610328104  pmid17360370bibcode  2007PNAS1044814V  pmc1817831 doiaccess  free \n",
      "\n",
      " Policy\n",
      " cite journal urlhttpslinkspringercomarticle1010072Fs1341201402157 doi101007s1341201402157 titleThe importance of phasing down hydrofluorocarbons and other shortlived climate pollutants year2015 last1Zaelke first1Durwood last2BorgfordParnell first2Nathan journalJournal of Environmental Studies and Sciences volume5 issue2 pages169175 s2cid128974741 \n",
      " cite journal doi105194acp1360832013 urlhttpsacpcopernicusorgarticles1360832013acp1360832013html titleThe role of HFCS in mitigating 21st century climate change year2013 last1Xu first1Y last2Zaelke first2D last3Velders first3G J M last4Ramanathan first4V journalAtmospheric Chemistry and Physics volume13 issue12 pages60836089 bibcode2013ACP136083X doiaccessfree \n",
      " cite journal doi101073pnas0902568106 titleReducing abrupt climate change risk using the Montreal Protocol and other regulatory actions to complement cuts in CO2 emissions year2009 last1Molina first1M last2Zaelke first2D last3Sarma first3K M last4Andersen first4S O last5Ramanathan first5V last6Kaniaru first6D journalProceedings of the National Academy of Sciences volume106 issue49 pages2061620621 pmid19822751 pmc2791591 s2cid13240115 doiaccessfree \n",
      " cite book last1Anderson first1S O last2Sarma first2M K last3Taddonio first3K year2007 urlhttpsbooksgooglecombooksidOvgAhZrPOcC titleTechnology Transfer for the Ozone Layer Lessons for Climate Change locationLondon publisherEarthscan isbn9781849772846 \n",
      " cite book first1Richard Elliot last1Benedick author2World Wildlife Fund US author3Institute for the Study of Diplomacy Georgetown University titleOzone Diplomacy New Directions in Safeguarding the Planet edition2nd urlhttpsbooksgooglecombooksid4yM9uPRUvi4C year1998 publisherHarvard University Press isbn9780674650039 Ambassador Benedick was the Chief US Negotiator at the meetings that resulted in the Montreal Protocol\n",
      " cite book last1Chasek first1P S first2David L last2Downie last3Brown first3J W year2013 urlhttpsbooksgooglecombooksidJu41zgEACAAJ titleGlobal Environmental Politics edition6th locationBoulder publisherWestview Press isbn9780813348971 \n",
      " cite book firstReiner lastGrundmann titleTransnational Environmental Policy Reconstructing Ozone urlhttpsbooksgooglecombooksidFYyVDlRhBvEC year2001 publisherPsychology Press isbn9780415224239\n",
      " cite book lastParson firstE year2003 urlhttpsbooksgooglecombooksidVNkJCAAAQBAJ titleProtecting the Ozone Layer Science and Strategy locationOxford publisherOxford University Press isbn9780190288716 \n",
      "\n",
      "External links\n",
      "Commons categoryOzone layer\n",
      "Wikisource\n",
      "httpwwwccpoodueduSEESozoneoz_classhtm Stratospheric ozone an electronic textbook\n",
      "httpwwwuneporgozonePublic_Information4Aii_PublicInfo_Facts_OzoneLayerasp Ozone Layer Info\n",
      "The httpwwwcopernicusstratosphereeu CAMS stratospheric ozone service delivers maps datasets and validation reports about the past and current state of the ozone layer\n",
      "CurlieScienceEnvironmentOzone_Layer\n",
      "\n",
      "Earths atmosphere\n",
      "Authority control\n",
      "\n",
      "CategoryOzone depletionLayer\n",
      "CategoryUltraviolet radiation\n"
     ]
    }
   ],
   "source": [
    "def merge_contents(data):\n",
    "    data = data['query']['pages'][0]['revisions'][0]['slots']['main']['content']\n",
    "    # Remove splitter characters\n",
    "    data = re.sub(r'[^\\w\\s]', '', data)\n",
    "    data = re.sub(r'http://\\S+|https://\\S+', '', data)\n",
    "    content = re.sub(r'{{cite[^}}]+}}', '', data)\n",
    "    return content\n",
    "\n",
    "merged_content = merge_contents(data)\n",
    "print(merged_content)"
   ]
  },
  {
   "cell_type": "code",
   "execution_count": null,
   "id": "9d3cbfe2",
   "metadata": {},
   "outputs": [],
   "source": []
  },
  {
   "cell_type": "markdown",
   "id": "a45b9048",
   "metadata": {},
   "source": [
    "## Preprocessing and Tokenization"
   ]
  },
  {
   "cell_type": "code",
   "execution_count": 5,
   "id": "023cbf8a",
   "metadata": {},
   "outputs": [],
   "source": [
    "def tokenize(data):\n",
    "    split_list = ['\\n', '.', ',', ' ']\n",
    "    ans = data.split(split_list[0])\n",
    "    ans1 = \" \".join(ans).split(split_list[1])\n",
    "    ans1 = \" \".join(ans).split(split_list[2])\n",
    "    words = \" \".join(ans1).split(split_list[3])\n",
    "    return [word.replace('.', '') for word in words if word != '']\n",
    "tokens = tokenize(merged_content)"
   ]
  },
  {
   "cell_type": "code",
   "execution_count": 6,
   "id": "eed63d55",
   "metadata": {},
   "outputs": [
    {
     "name": "stdout",
     "output_type": "stream",
     "text": [
      "True\n"
     ]
    }
   ],
   "source": [
    "exp = ['Lorem', 'ipsum', 'dolor', 'sit', 'amet', 'consectetur', 'adipiscing', 'elit', 'Aliquam', 'a', 'cursus', 'elit', 'sed', 'viverra', 'justo', 'Integer', 'tempus', 'ante', 'at', 'odio', 'commodo', 'et', 'ornare', 'ipsum', 'dapibus', 'Donec', 'bibendum', 'sit', 'amet', 'urna', 'sit', 'amet', 'facilisis', 'Donec', 'accumsan', 'odio', 'ligula', 'Proin', 'sodales', 'sapien', 'at', 'risus', 'viverra', 'at', 'vehicula', 'dolor', 'malesuada', 'Aenean', 'scelerisque', 'tristique', 'ultricies', 'Lorem', 'ipsum', 'dolor', 'sit', 'amet', 'consectetur', 'adipiscing', 'elit', 'Etiam', 'euismod', 'scelerisque', 'lacinia', 'Proin', 'sit', 'amet', 'nisi', 'orci', 'Donec', 'aliquet', 'eros', 'ac', 'sem', 'fringilla', 'eu', 'rutrum', 'urna', 'malesuada', 'Cras', 'ut', 'congue', 'massa', 'Nam', 'fermentum', 'odio', 'ac', 'purus', 'varius', 'ac', 'tempus', 'elit', 'bibendum', 'Donec', 'turpis', 'leo', 'imperdiet', 'eget', 'blandit', 'non', 'commodo', 'auctor', 'risus', 'Praesent', 'interdum', 'bibendum', 'gravida'] \n",
    "test = tokenize('Lorem ipsum dolor sit amet, consectetur adipiscing elit. Aliquam a cursus elit, sed viverra justo. Integer tempus ante at odio commodo, et ornare ipsum dapibus. Donec bibendum sit amet urna sit amet facilisis. Donec accumsan odio ligula. Proin sodales sapien at risus viverra, at vehicula dolor malesuada. Aenean scelerisque tristique ultricies. Lorem ipsum dolor sit amet, consectetur adipiscing elit. Etiam euismod scelerisque lacinia. Proin sit amet nisi orci. Donec aliquet eros ac sem fringilla, eu rutrum urna malesuada. Cras ut congue massa. Nam fermentum odio ac purus varius, ac tempus elit bibendum. Donec turpis leo, imperdiet eget blandit non, commodo auctor risus. Praesent interdum bibendum gravida.')\n",
    "if exp == test:\n",
    "    print(True)\n",
    "else:\n",
    "    print(False)"
   ]
  },
  {
   "cell_type": "code",
   "execution_count": null,
   "id": "43aa78ae",
   "metadata": {},
   "outputs": [],
   "source": []
  },
  {
   "cell_type": "markdown",
   "id": "80e90f15",
   "metadata": {},
   "source": [
    "## Lower the case of all words"
   ]
  },
  {
   "cell_type": "code",
   "execution_count": 7,
   "id": "4708cc9d",
   "metadata": {},
   "outputs": [],
   "source": [
    "def lower_collection(tokens):\n",
    "    return [word.lower() for word in tokens]\n",
    "\n",
    "tokens = lower_collection(tokens)"
   ]
  },
  {
   "cell_type": "code",
   "execution_count": null,
   "id": "24805c85",
   "metadata": {},
   "outputs": [],
   "source": []
  },
  {
   "cell_type": "markdown",
   "id": "5cd1f183",
   "metadata": {},
   "source": [
    "## Counting the frequencies"
   ]
  },
  {
   "cell_type": "code",
   "execution_count": 8,
   "id": "296a259c",
   "metadata": {},
   "outputs": [],
   "source": [
    "def count_frequency(tokens):\n",
    "    word_counts = {}\n",
    "    for word in tokens:\n",
    "        word = word.lower()\n",
    "        if word in word_counts:\n",
    "            word_counts[word] += 1\n",
    "        else:\n",
    "            word_counts[word] = 1\n",
    "    return word_counts\n",
    "\n",
    "word_counts =  count_frequency(tokens)"
   ]
  },
  {
   "cell_type": "code",
   "execution_count": 9,
   "id": "3edeaa95",
   "metadata": {},
   "outputs": [
    {
     "name": "stdout",
     "output_type": "stream",
     "text": [
      "the = 241\n",
      "of = 134\n",
      "ozone = 112\n",
      "and = 90\n",
      "in = 79\n",
      "to = 65\n",
      "is = 42\n",
      "layer = 39\n",
      "a = 32\n",
      "by = 31\n",
      "that = 22\n",
      "radiation = 21\n",
      "ultraviolet = 18\n",
      "from = 17\n",
      "for = 17\n",
      "are = 17\n",
      "was = 16\n",
      "with = 16\n",
      "depletion = 16\n",
      "at = 15\n"
     ]
    }
   ],
   "source": [
    "def print_count_frequency(word_counts, n):\n",
    "    # Get the n most frequent words and their frequencies\n",
    "    most_frequent = word_counts.most_common(n)\n",
    "    \n",
    "    # Extract the words and their frequencies into separate lists\n",
    "    words = [word for word, count in most_frequent]\n",
    "    counts = [count for word, count in most_frequent]\n",
    "    # printing the frequencies \n",
    "    for i in range(len(words)):\n",
    "        print(f'{words[i]} = {counts[i]}')\n",
    "    \n",
    "print_count_frequency(Counter(word_counts), 20)"
   ]
  },
  {
   "cell_type": "code",
   "execution_count": null,
   "id": "e5c43c97",
   "metadata": {},
   "outputs": [],
   "source": []
  },
  {
   "cell_type": "markdown",
   "id": "a046f365",
   "metadata": {},
   "source": [
    "## Plotting the Most Frequenct Words"
   ]
  },
  {
   "cell_type": "code",
   "execution_count": 13,
   "id": "0a3ae94c",
   "metadata": {},
   "outputs": [
    {
     "data": {
      "image/png": "[encoded data removed]",
      "text/plain": [
       "<Figure size 432x288 with 1 Axes>"
      ]
     },
     "metadata": {
      "needs_background": "light"
     },
     "output_type": "display_data"
    }
   ],
   "source": [
    "def plot_most_frequent(word_counts, n):\n",
    "    most_frequent = word_counts.most_common(n)\n",
    "    words = [word for word, count in most_frequent]\n",
    "    counts = [count for word, count in most_frequent]\n",
    "    # Plot the histogram\n",
    "    bar_list = plt.barh(words, counts)\n",
    "    plt.xlabel('Words')\n",
    "    plt.ylabel('Frequency')\n",
    "    plt.title('Most Frequent Words')\n",
    "    plt.xticks(rotation=90)\n",
    "    \n",
    "    # Assigning random colors to the bars\n",
    "    for brl in bar_list:\n",
    "        r, g, b = random.random(), random.random(), random.random()\n",
    "        brl.set_color((r, g, b))\n",
    "        \n",
    "    # Show plot\n",
    "    plt.show()\n",
    "\n",
    "# Example usage\n",
    "word_counts = Counter(word_counts)\n",
    "plot_most_frequent(word_counts, 20)\n"
   ]
  },
  {
   "cell_type": "code",
   "execution_count": null,
   "id": "c6b8cbea",
   "metadata": {},
   "outputs": [],
   "source": []
  },
  {
   "cell_type": "markdown",
   "id": "58a72d09",
   "metadata": {},
   "source": [
    "## Removing Stop Words"
   ]
  },
  {
   "cell_type": "code",
   "execution_count": 11,
   "id": "fde037a8",
   "metadata": {},
   "outputs": [],
   "source": [
    "def remove_stop_words(words, stop_words):\n",
    "    result = []\n",
    "    for word in words:\n",
    "        if word not in stop_words:\n",
    "            result.append(word)\n",
    "    return result\n",
    "stop_words = ['the', 'and', 'of', 'to', 'a', 'in', 'that', 'it', 'with', 'for', 'is', 'on', 'was', 'as', 'by', 'at', 'an', 'this']\n",
    "filtered_collection = remove_stop_words(tokens, stop_words)        "
   ]
  },
  {
   "cell_type": "code",
   "execution_count": null,
   "id": "a024768a",
   "metadata": {},
   "outputs": [],
   "source": []
  },
  {
   "cell_type": "markdown",
   "id": "6cdaf3b0",
   "metadata": {},
   "source": [
    "## Plotting the Filtered Words"
   ]
  },
  {
   "cell_type": "code",
   "execution_count": 12,
   "id": "8c435520",
   "metadata": {},
   "outputs": [
    {
     "data": {
      "image/png": "[encoded data removed]",
      "text/plain": [
       "<Figure size 432x288 with 1 Axes>"
      ]
     },
     "metadata": {
      "needs_background": "light"
     },
     "output_type": "display_data"
    }
   ],
   "source": [
    "word_counts = Counter(filtered_collection)\n",
    "plot_most_frequent(word_counts, 25)"
   ]
  },
  {
   "cell_type": "code",
   "execution_count": null,
   "id": "57da79a7",
   "metadata": {},
   "outputs": [],
   "source": []
  },
  {
   "cell_type": "code",
   "execution_count": null,
   "id": "fecfcac9",
   "metadata": {},
   "outputs": [],
   "source": []
  }
 ],
 "metadata": {
  "kernelspec": {
   "display_name": "Python 3",
   "language": "python",
   "name": "python3"
  },
  "language_info": {
   "codemirror_mode": {
    "name": "ipython",
    "version": 3
   },
   "file_extension": ".py",
   "mimetype": "text/x-python",
   "name": "python",
   "nbconvert_exporter": "python",
   "pygments_lexer": "ipython3",
   "version": "3.6.7"
  }
 },
 "nbformat": 4,
 "nbformat_minor": 5
}
